{
 "cells": [
  {
   "cell_type": "code",
   "execution_count": 1,
   "id": "38871f19",
   "metadata": {},
   "outputs": [],
   "source": [
    "import os\n",
    "os.environ['DJANGO_SETTINGS_MODULE'] = 'askcompany.settings'\n",
    "os.environ['DJANGO_ALLOW_ASYNC_UNSAFE'] = \"true\"\n",
    "\n",
    "import django\n",
    "django.setup()"
   ]
  },
  {
   "cell_type": "code",
   "execution_count": null,
   "id": "d5e70aaf",
   "metadata": {},
   "outputs": [],
   "source": []
  },
  {
   "cell_type": "code",
   "execution_count": 2,
   "id": "9a6ecb2f",
   "metadata": {},
   "outputs": [],
   "source": [
    "from instagram.models import Post, Tag"
   ]
  },
  {
   "cell_type": "code",
   "execution_count": null,
   "id": "5bd9c928",
   "metadata": {},
   "outputs": [],
   "source": []
  },
  {
   "cell_type": "code",
   "execution_count": 3,
   "id": "33b3799f",
   "metadata": {},
   "outputs": [
    {
     "data": {
      "text/plain": [
       "<Post: 세번째 메세지>"
      ]
     },
     "execution_count": 3,
     "metadata": {},
     "output_type": "execute_result"
    }
   ],
   "source": [
    "post = Post.objects.first()\n",
    "post"
   ]
  },
  {
   "cell_type": "code",
   "execution_count": 4,
   "id": "ed561dcd",
   "metadata": {},
   "outputs": [
    {
     "data": {
      "text/plain": [
       "<QuerySet [<Tag: 파이썬>]>"
      ]
     },
     "execution_count": 4,
     "metadata": {},
     "output_type": "execute_result"
    }
   ],
   "source": [
    "post.tag_set.all()"
   ]
  },
  {
   "cell_type": "code",
   "execution_count": null,
   "id": "0fde081f",
   "metadata": {},
   "outputs": [],
   "source": []
  },
  {
   "cell_type": "code",
   "execution_count": 8,
   "id": "e2148077",
   "metadata": {},
   "outputs": [
    {
     "data": {
      "text/plain": [
       "<Tag: 장고>"
      ]
     },
     "execution_count": 8,
     "metadata": {},
     "output_type": "execute_result"
    }
   ],
   "source": [
    "Tag.objects.create(name='장고')"
   ]
  },
  {
   "cell_type": "code",
   "execution_count": 9,
   "id": "c4f86bf9",
   "metadata": {},
   "outputs": [
    {
     "data": {
      "text/plain": [
       "<Tag: AskCompany>"
      ]
     },
     "execution_count": 9,
     "metadata": {},
     "output_type": "execute_result"
    }
   ],
   "source": [
    "Tag.objects.create(name='AskCompany')"
   ]
  },
  {
   "cell_type": "code",
   "execution_count": 10,
   "id": "d795703f",
   "metadata": {},
   "outputs": [
    {
     "data": {
      "text/plain": [
       "<QuerySet [<Tag: 파이썬>, <Tag: 장고>, <Tag: AskCompany>]>"
      ]
     },
     "execution_count": 10,
     "metadata": {},
     "output_type": "execute_result"
    }
   ],
   "source": [
    "Tag.objects.all()"
   ]
  },
  {
   "cell_type": "code",
   "execution_count": 6,
   "id": "4d177bf8",
   "metadata": {},
   "outputs": [
    {
     "data": {
      "text/plain": [
       "<Tag: 파이썬>"
      ]
     },
     "execution_count": 6,
     "metadata": {},
     "output_type": "execute_result"
    }
   ],
   "source": [
    "tag = Tag.objects.first()\n",
    "tag"
   ]
  },
  {
   "cell_type": "code",
   "execution_count": 7,
   "id": "274b094a",
   "metadata": {},
   "outputs": [
    {
     "data": {
      "text/plain": [
       "<QuerySet [<Post: 세번째 메세지>]>"
      ]
     },
     "execution_count": 7,
     "metadata": {},
     "output_type": "execute_result"
    }
   ],
   "source": [
    "tag.post_set.all()"
   ]
  },
  {
   "cell_type": "code",
   "execution_count": 11,
   "id": "fcda6d12",
   "metadata": {},
   "outputs": [
    {
     "data": {
      "text/plain": [
       "<QuerySet [<Tag: 파이썬>]>"
      ]
     },
     "execution_count": 11,
     "metadata": {},
     "output_type": "execute_result"
    }
   ],
   "source": [
    "post.tag_set.all()"
   ]
  },
  {
   "cell_type": "code",
   "execution_count": 20,
   "id": "c3e19a30",
   "metadata": {},
   "outputs": [],
   "source": [
    "# tag = Tag.objects.get(name='장고')\n",
    "# post.tag_set.remove(tag)\n",
    "\n",
    "tag_qs = Tag.objects.all()\n",
    "post.tag_set.add(*tag_qs)"
   ]
  },
  {
   "cell_type": "code",
   "execution_count": 21,
   "id": "d78e60b3",
   "metadata": {},
   "outputs": [
    {
     "data": {
      "text/plain": [
       "<QuerySet [<Tag: 파이썬>, <Tag: 장고>, <Tag: AskCompany>]>"
      ]
     },
     "execution_count": 21,
     "metadata": {},
     "output_type": "execute_result"
    }
   ],
   "source": [
    "post.tag_set.all()"
   ]
  },
  {
   "cell_type": "code",
   "execution_count": null,
   "id": "9f92f2c8",
   "metadata": {},
   "outputs": [],
   "source": []
  },
  {
   "cell_type": "code",
   "execution_count": null,
   "id": "a4cab160",
   "metadata": {},
   "outputs": [],
   "source": []
  },
  {
   "cell_type": "code",
   "execution_count": null,
   "id": "ab1fd83d",
   "metadata": {},
   "outputs": [],
   "source": []
  },
  {
   "cell_type": "code",
   "execution_count": 24,
   "id": "148cffea",
   "metadata": {},
   "outputs": [],
   "source": [
    "def myfn(a,b,c):\n",
    "    print(f\"a = {a}, b = {b} , c = {c}\")"
   ]
  },
  {
   "cell_type": "code",
   "execution_count": 25,
   "id": "2f18d9c9",
   "metadata": {},
   "outputs": [
    {
     "name": "stdout",
     "output_type": "stream",
     "text": [
      "a = 1, b = 2 , c = 3\n"
     ]
    }
   ],
   "source": [
    "myfn(1,2,3)"
   ]
  },
  {
   "cell_type": "code",
   "execution_count": 27,
   "id": "a0f35cd0",
   "metadata": {},
   "outputs": [
    {
     "name": "stdout",
     "output_type": "stream",
     "text": [
      "a = 1, b = 2 , c = 3\n"
     ]
    }
   ],
   "source": [
    "params = [1,2,3]\n",
    "myfn(*params)"
   ]
  },
  {
   "cell_type": "code",
   "execution_count": null,
   "id": "3e814e50",
   "metadata": {},
   "outputs": [],
   "source": []
  }
 ],
 "metadata": {
  "kernelspec": {
   "display_name": "Python 3",
   "language": "python",
   "name": "python3"
  },
  "language_info": {
   "codemirror_mode": {
    "name": "ipython",
    "version": 3
   },
   "file_extension": ".py",
   "mimetype": "text/x-python",
   "name": "python",
   "nbconvert_exporter": "python",
   "pygments_lexer": "ipython3",
   "version": "3.7.10"
  }
 },
 "nbformat": 4,
 "nbformat_minor": 5
}
